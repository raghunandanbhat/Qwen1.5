!pip install transformers
!pip install peft
!pip install torch
